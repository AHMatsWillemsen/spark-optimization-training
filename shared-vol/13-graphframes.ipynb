{
 "cells": [
  {
   "cell_type": "markdown",
   "metadata": {},
   "source": [
    "# Integrating GraphFrames package"
   ]
  },
  {
   "cell_type": "markdown",
   "metadata": {},
   "source": [
    "One option is to configure `PYSPARK_SUBMIT_ARGS`. With that all sessions will be initialized with the specified package."
   ]
  },
  {
   "cell_type": "code",
   "execution_count": 1,
   "metadata": {},
   "outputs": [],
   "source": [
    "import os\n",
    "\n",
    "os.environ['PYSPARK_SUBMIT_ARGS'] = '--driver-memory 2g --packages graphframes:graphframes:0.8.1-spark3.0-s_2.12 pyspark-shell'"
   ]
  },
  {
   "cell_type": "markdown",
   "metadata": {},
   "source": [
    "Better option is to provide a builder configuration option `spark.jars.packages`."
   ]
  },
  {
   "cell_type": "code",
   "execution_count": 14,
   "metadata": {},
   "outputs": [],
   "source": [
    "from pyspark import StorageLevel\n",
    "from pyspark.sql import functions as F, SQLContext, SparkSession, Window\n",
    "from pyspark.sql.types import *\n",
    "from random import randint\n",
    "import time\n",
    "import datetime\n",
    "\n",
    "spark = (SparkSession.builder\n",
    "         .appName(\"graphframes\")\n",
    "         .master(\"spark://spark-master:7077\")\n",
    "         .config(\"spark.jars.packages\", \"graphframes:graphframes:0.8.1-spark3.0-s_2.12\")\n",
    "         .enableHiveSupport()\n",
    "         .getOrCreate()\n",
    "         )"
   ]
  },
  {
   "cell_type": "code",
   "execution_count": 10,
   "metadata": {},
   "outputs": [
    {
     "data": {
      "text/plain": [
       "['/opt/workspace',\n",
       " '/tmp/spark-c1cc1732-44c6-41fb-a5cf-1ed1798160c6/userFiles-c40a5f68-ec40-40f0-be4e-603f65daaf61/org.slf4j_slf4j-api-1.7.16.jar',\n",
       " '/tmp/spark-c1cc1732-44c6-41fb-a5cf-1ed1798160c6/userFiles-c40a5f68-ec40-40f0-be4e-603f65daaf61/graphframes_graphframes-0.8.1-spark3.0-s_2.12.jar',\n",
       " '/tmp/spark-c1cc1732-44c6-41fb-a5cf-1ed1798160c6/userFiles-c40a5f68-ec40-40f0-be4e-603f65daaf61',\n",
       " '/usr/lib/python37.zip',\n",
       " '/usr/lib/python3.7',\n",
       " '/usr/lib/python3.7/lib-dynload',\n",
       " '',\n",
       " '/usr/local/lib/python3.7/dist-packages',\n",
       " '/usr/lib/python3/dist-packages',\n",
       " '/usr/local/lib/python3.7/dist-packages/IPython/extensions',\n",
       " '/root/.ipython']"
      ]
     },
     "execution_count": 10,
     "metadata": {},
     "output_type": "execute_result"
    }
   ],
   "source": [
    "import sys\n",
    "sys.path"
   ]
  },
  {
   "cell_type": "code",
   "execution_count": 4,
   "metadata": {},
   "outputs": [
    {
     "data": {
      "text/plain": [
       "['Column',\n",
       " 'DataFrame',\n",
       " 'GraphFrame',\n",
       " 'Pregel',\n",
       " 'SQLContext',\n",
       " 'SparkContext',\n",
       " 'StorageLevel',\n",
       " '__builtins__',\n",
       " '__cached__',\n",
       " '__doc__',\n",
       " '__file__',\n",
       " '__loader__',\n",
       " '__name__',\n",
       " '__package__',\n",
       " '__spec__',\n",
       " '_from_java_gf',\n",
       " '_java_api',\n",
       " '_test',\n",
       " 'basestring',\n",
       " 'sys']"
      ]
     },
     "execution_count": 4,
     "metadata": {},
     "output_type": "execute_result"
    }
   ],
   "source": [
    "import graphframes\n",
    "\n",
    "dir(graphframes.graphframe)"
   ]
  },
  {
   "cell_type": "code",
   "execution_count": 5,
   "metadata": {},
   "outputs": [],
   "source": [
    "from pyspark.sql.functions import *\n",
    "\n",
    "# Create a Vertex DataFrame with unique ID column \"id\"\n",
    "v = spark.createDataFrame([\n",
    "  (\"a\", \"Alice\", 34),\n",
    "  (\"b\", \"Bob\", 36),\n",
    "  (\"c\", \"Charlie\", 30),\n",
    "], [\"id\", \"name\", \"age\"])\n",
    "# Create an Edge DataFrame with \"src\" and \"dst\" columns\n",
    "e = spark.createDataFrame([\n",
    "  (\"a\", \"b\", \"friend\"),\n",
    "  (\"b\", \"c\", \"follow\"),\n",
    "  (\"c\", \"b\", \"follow\"),\n",
    "], [\"src\", \"dst\", \"relationship\"])"
   ]
  },
  {
   "cell_type": "code",
   "execution_count": 6,
   "metadata": {},
   "outputs": [],
   "source": [
    "from graphframes import *\n",
    "g = GraphFrame(v, e)"
   ]
  },
  {
   "cell_type": "code",
   "execution_count": 7,
   "metadata": {},
   "outputs": [
    {
     "name": "stdout",
     "output_type": "stream",
     "text": [
      "+---+--------+\n",
      "| id|inDegree|\n",
      "+---+--------+\n",
      "|  c|       1|\n",
      "|  b|       2|\n",
      "+---+--------+\n",
      "\n"
     ]
    }
   ],
   "source": [
    "g.inDegrees.show()"
   ]
  },
  {
   "cell_type": "code",
   "execution_count": 8,
   "metadata": {},
   "outputs": [
    {
     "data": {
      "text/plain": [
       "2"
      ]
     },
     "execution_count": 8,
     "metadata": {},
     "output_type": "execute_result"
    }
   ],
   "source": [
    "g.edges.filter(\"relationship = 'follow'\").count()"
   ]
  },
  {
   "cell_type": "code",
   "execution_count": 9,
   "metadata": {},
   "outputs": [
    {
     "name": "stdout",
     "output_type": "stream",
     "text": [
      "+---+------------------+\n",
      "| id|          pagerank|\n",
      "+---+------------------+\n",
      "|  b|1.0905890109440908|\n",
      "|  a|              0.01|\n",
      "|  c|1.8994109890559092|\n",
      "+---+------------------+\n",
      "\n"
     ]
    }
   ],
   "source": [
    "results = g.pageRank(resetProbability=0.01, maxIter=20)\n",
    "results.vertices.select(\"id\", \"pagerank\").show()"
   ]
  },
  {
   "cell_type": "markdown",
   "metadata": {},
   "source": [
    "## Bike Rides"
   ]
  },
  {
   "cell_type": "code",
   "execution_count": 19,
   "metadata": {},
   "outputs": [
    {
     "name": "stdout",
     "output_type": "stream",
     "text": [
      "root\n",
      " |-- id: string (nullable = true)\n",
      " |-- name: string (nullable = true)\n",
      " |-- lat: string (nullable = true)\n",
      " |-- long: string (nullable = true)\n",
      " |-- dock_count: string (nullable = true)\n",
      " |-- city: string (nullable = true)\n",
      " |-- installation_date: string (nullable = true)\n",
      "\n",
      "root\n",
      " |-- id: string (nullable = true)\n",
      " |-- duration: string (nullable = true)\n",
      " |-- start_date: string (nullable = true)\n",
      " |-- start_station_name: string (nullable = true)\n",
      " |-- start_station_id: string (nullable = true)\n",
      " |-- end_date: string (nullable = true)\n",
      " |-- end_station_name: string (nullable = true)\n",
      " |-- end_station_id: string (nullable = true)\n",
      " |-- bike_id: string (nullable = true)\n",
      " |-- subscription_type: string (nullable = true)\n",
      " |-- zip_code: string (nullable = true)\n",
      "\n"
     ]
    }
   ],
   "source": [
    "bikeStations = spark.read.option(\"header\",True).csv(\"data/graphs/station.csv\")\n",
    "bikeStations.printSchema()\n",
    "tripData = spark.read.option(\"header\",True).csv(\"data/graphs/trip.csv\")\n",
    "tripData.printSchema()"
   ]
  },
  {
   "cell_type": "markdown",
   "metadata": {},
   "source": [
    "### Prepare Vertices"
   ]
  },
  {
   "cell_type": "code",
   "execution_count": 35,
   "metadata": {},
   "outputs": [
    {
     "name": "stdout",
     "output_type": "stream",
     "text": [
      "+---+---------------------------------+------------------+-------------------+----------+-------------+-----------------+\n",
      "|id |name                             |lat               |long               |dock_count|city         |installation_date|\n",
      "+---+---------------------------------+------------------+-------------------+----------+-------------+-----------------+\n",
      "|67 |Market at 10th                   |37.776619000000004|-122.41738500000001|27        |San Francisco|8/23/2013        |\n",
      "|10 |San Jose City Hall               |37.337391         |-121.886995        |15        |San Jose     |8/6/2013         |\n",
      "|11 |MLK Library                      |37.335885         |-121.88566000000002|19        |San Jose     |8/6/2013         |\n",
      "|34 |Palo Alto Caltrain Station       |37.443988         |-122.164759        |23        |Palo Alto    |8/14/2013        |\n",
      "|42 |Davis at Jackson                 |37.79728          |-122.398436        |15        |San Francisco|8/19/2013        |\n",
      "|32 |Castro Street and El Camino Real |37.385956         |-122.083678        |11        |Mountain View|12/31/2013       |\n",
      "|38 |Park at Olive                    |37.425683899999996|-122.13777749999998|15        |Palo Alto    |8/14/2013        |\n",
      "|64 |2nd at South Park                |37.782259         |-122.392738        |15        |San Francisco|8/22/2013        |\n",
      "|4  |Santa Clara at Almaden           |37.333988         |-121.894902        |11        |San Jose     |8/6/2013         |\n",
      "|56 |Beale at Market                  |37.792251         |-122.39708600000002|19        |San Francisco|8/20/2013        |\n",
      "|29 |San Antonio Caltrain Station     |37.406940000000006|-122.10675800000001|23        |Mountain View|8/15/2013        |\n",
      "|60 |Embarcadero at Sansome           |37.80477          |-122.40323400000001|15        |San Francisco|8/21/2013        |\n",
      "|6  |San Pedro Square                 |37.336721000000004|-121.894074        |15        |San Jose     |8/7/2013         |\n",
      "|54 |Embarcadero at Bryant            |37.787152         |-122.38801299999999|15        |San Francisco|8/20/2013        |\n",
      "|71 |Powell at Post (Union Square)    |37.788446         |-122.408499        |19        |San Francisco|8/23/2013        |\n",
      "|80 |Santa Clara County Civic Center  |37.352601         |-121.90573300000001|15        |San Jose     |12/31/2013       |\n",
      "|72 |Civic Center BART (7th at Market)|37.781039         |-122.411748        |23        |San Francisco|8/23/2013        |\n",
      "|13 |St James Park                    |37.339301         |-121.88993700000002|15        |San Jose     |8/6/2013         |\n",
      "|62 |2nd at Folsom                    |37.785299         |-122.39623600000002|19        |San Francisco|8/22/2013        |\n",
      "|39 |Powell Street BART               |37.783871000000005|-122.408433        |19        |San Francisco|8/25/2013        |\n",
      "+---+---------------------------------+------------------+-------------------+----------+-------------+-----------------+\n",
      "only showing top 20 rows\n",
      "\n"
     ]
    }
   ],
   "source": [
    "stationVertices = bikeStations.distinct()\n",
    "stationVertices.show(truncate=False)"
   ]
  },
  {
   "cell_type": "markdown",
   "metadata": {},
   "source": [
    "### Prepare Edges"
   ]
  },
  {
   "cell_type": "code",
   "execution_count": 46,
   "metadata": {},
   "outputs": [
    {
     "name": "stdout",
     "output_type": "stream",
     "text": [
      "+----+--------+---------------+------------------------------+----------------+---------------+------------------------------------+--------------+-------+-----------------+--------+\n",
      "|id  |duration|start_date     |src                           |start_station_id|end_date       |dst                                 |end_station_id|bike_id|subscription_type|zip_code|\n",
      "+----+--------+---------------+------------------------------+----------------+---------------+------------------------------------+--------------+-------+-----------------+--------+\n",
      "|4576|63      |8/29/2013 14:13|South Van Ness at Market      |66              |8/29/2013 14:14|South Van Ness at Market            |66            |520    |Subscriber       |94127   |\n",
      "|4607|70      |8/29/2013 14:42|San Jose City Hall            |10              |8/29/2013 14:43|San Jose City Hall                  |10            |661    |Subscriber       |95138   |\n",
      "|4130|71      |8/29/2013 10:16|Mountain View City Hall       |27              |8/29/2013 10:17|Mountain View City Hall             |27            |48     |Subscriber       |97214   |\n",
      "|4251|77      |8/29/2013 11:29|San Jose City Hall            |10              |8/29/2013 11:30|San Jose City Hall                  |10            |26     |Subscriber       |95060   |\n",
      "|4299|83      |8/29/2013 12:02|South Van Ness at Market      |66              |8/29/2013 12:04|Market at 10th                      |67            |319    |Subscriber       |94103   |\n",
      "|4927|103     |8/29/2013 18:54|Golden Gate at Polk           |59              |8/29/2013 18:56|Golden Gate at Polk                 |59            |527    |Subscriber       |94109   |\n",
      "|4500|109     |8/29/2013 13:25|Santa Clara at Almaden        |4               |8/29/2013 13:27|Adobe on Almaden                    |5             |679    |Subscriber       |95112   |\n",
      "|4563|111     |8/29/2013 14:02|San Salvador at 1st           |8               |8/29/2013 14:04|San Salvador at 1st                 |8             |687    |Subscriber       |95112   |\n",
      "|4760|113     |8/29/2013 17:01|South Van Ness at Market      |66              |8/29/2013 17:03|South Van Ness at Market            |66            |553    |Subscriber       |94103   |\n",
      "|4258|114     |8/29/2013 11:33|San Jose City Hall            |10              |8/29/2013 11:35|MLK Library                         |11            |107    |Subscriber       |95060   |\n",
      "|4549|125     |8/29/2013 13:52|Spear at Folsom               |49              |8/29/2013 13:55|Embarcadero at Bryant               |54            |368    |Subscriber       |94109   |\n",
      "|4498|126     |8/29/2013 13:23|San Pedro Square              |6               |8/29/2013 13:25|Santa Clara at Almaden              |4             |26     |Subscriber       |95112   |\n",
      "|4965|129     |8/29/2013 19:32|Mountain View Caltrain Station|28              |8/29/2013 19:35|Mountain View Caltrain Station      |28            |140    |Subscriber       |94041   |\n",
      "|4557|130     |8/29/2013 13:57|2nd at South Park             |64              |8/29/2013 13:59|2nd at South Park                   |64            |371    |Subscriber       |94122   |\n",
      "|4386|134     |8/29/2013 12:31|Clay at Battery               |41              |8/29/2013 12:33|Beale at Market                     |56            |503    |Subscriber       |94109   |\n",
      "|4749|138     |8/29/2013 16:57|Post at Kearney               |47              |8/29/2013 16:59|Post at Kearney                     |47            |408    |Subscriber       |94117   |\n",
      "|4242|141     |8/29/2013 11:25|San Jose City Hall            |10              |8/29/2013 11:27|San Jose City Hall                  |10            |26     |Subscriber       |95060   |\n",
      "|4329|142     |8/29/2013 12:11|Market at 10th                |67              |8/29/2013 12:14|Market at 10th                      |67            |319    |Subscriber       |94103   |\n",
      "|5097|142     |8/29/2013 22:21|Steuart at Market             |74              |8/29/2013 22:24|Harry Bridges Plaza (Ferry Building)|50            |564    |Subscriber       |94115   |\n",
      "|5084|144     |8/29/2013 22:06|Powell Street BART            |39              |8/29/2013 22:08|Market at 4th                       |76            |574    |Subscriber       |94115   |\n",
      "+----+--------+---------------+------------------------------+----------------+---------------+------------------------------------+--------------+-------+-----------------+--------+\n",
      "only showing top 20 rows\n",
      "\n"
     ]
    }
   ],
   "source": [
    "tripEdges = tripData\\\n",
    "    .withColumnRenamed(\"start_station_name\", \"src\")\\\n",
    "    .withColumnRenamed(\"end_station_name\", \"dst\")\n",
    "\n",
    "tripEdges.show(truncate=False)"
   ]
  },
  {
   "cell_type": "markdown",
   "metadata": {},
   "source": [
    "### Initialize the GraphFrame"
   ]
  },
  {
   "cell_type": "code",
   "execution_count": 25,
   "metadata": {},
   "outputs": [],
   "source": [
    "stationGraph = GraphFrame(stationVertices, tripEdges)"
   ]
  },
  {
   "cell_type": "markdown",
   "metadata": {},
   "source": [
    "### Simple Graph computations"
   ]
  },
  {
   "cell_type": "code",
   "execution_count": 52,
   "metadata": {},
   "outputs": [
    {
     "name": "stdout",
     "output_type": "stream",
     "text": [
      "Total Number of Stations: 70\n",
      "Total Number of Trips in Graph: 669959\n",
      "Total Number of Trips in Original Data: 669959\n"
     ]
    }
   ],
   "source": [
    "print(\"Total Number of Stations: \" + str(stationGraph.vertices.count()))\n",
    "print(\"Total Number of Trips in Graph: \" + str(stationGraph.edges.count()))\n",
    "print(\"Total Number of Trips in Original Data: \" + str(tripData.count()))"
   ]
  },
  {
   "cell_type": "markdown",
   "metadata": {},
   "source": [
    "### Most popular trips"
   ]
  },
  {
   "cell_type": "code",
   "execution_count": 37,
   "metadata": {},
   "outputs": [
    {
     "name": "stdout",
     "output_type": "stream",
     "text": [
      "+----------------------------------------+----------------------------------------+-----+\n",
      "|src                                     |dst                                     |count|\n",
      "+----------------------------------------+----------------------------------------+-----+\n",
      "|San Francisco Caltrain 2 (330 Townsend) |Townsend at 7th                         |6216 |\n",
      "|Harry Bridges Plaza (Ferry Building)    |Embarcadero at Sansome                  |6164 |\n",
      "|Townsend at 7th                         |San Francisco Caltrain (Townsend at 4th)|5041 |\n",
      "|2nd at Townsend                         |Harry Bridges Plaza (Ferry Building)    |4839 |\n",
      "|Harry Bridges Plaza (Ferry Building)    |2nd at Townsend                         |4357 |\n",
      "|Embarcadero at Sansome                  |Steuart at Market                       |4269 |\n",
      "|Embarcadero at Folsom                   |San Francisco Caltrain (Townsend at 4th)|3967 |\n",
      "|Steuart at Market                       |2nd at Townsend                         |3903 |\n",
      "|2nd at South Park                       |Market at Sansome                       |3627 |\n",
      "|San Francisco Caltrain (Townsend at 4th)|Harry Bridges Plaza (Ferry Building)    |3622 |\n",
      "+----------------------------------------+----------------------------------------+-----+\n",
      "\n"
     ]
    }
   ],
   "source": [
    "topTrips = stationGraph\\\n",
    "    .edges\\\n",
    "    .groupBy(\"src\", \"dst\")\\\n",
    "    .count()\\\n",
    "    .orderBy(desc(\"count\"))\\\n",
    "    .limit(10)\n",
    "\n",
    "topTrips.show(truncate=False)"
   ]
  },
  {
   "cell_type": "markdown",
   "metadata": {},
   "source": [
    "### In Degree"
   ]
  },
  {
   "cell_type": "code",
   "execution_count": 44,
   "metadata": {},
   "outputs": [
    {
     "name": "stdout",
     "output_type": "stream",
     "text": [
      "+----------------------------------------+--------+\n",
      "|id                                      |inDegree|\n",
      "+----------------------------------------+--------+\n",
      "|San Francisco Caltrain (Townsend at 4th)|63179   |\n",
      "|San Francisco Caltrain 2 (330 Townsend) |35117   |\n",
      "|Harry Bridges Plaza (Ferry Building)    |33193   |\n",
      "|Embarcadero at Sansome                  |30796   |\n",
      "|2nd at Townsend                         |28529   |\n",
      "+----------------------------------------+--------+\n",
      "\n"
     ]
    }
   ],
   "source": [
    "inDeg = stationGraph.inDegrees\n",
    "inDeg\\\n",
    "    .orderBy(desc(\"inDegree\"))\\\n",
    "    .limit(5)\\\n",
    "    .show(truncate=False)"
   ]
  },
  {
   "cell_type": "markdown",
   "metadata": {},
   "source": [
    "### Out Degree"
   ]
  },
  {
   "cell_type": "code",
   "execution_count": 43,
   "metadata": {},
   "outputs": [
    {
     "name": "stdout",
     "output_type": "stream",
     "text": [
      "+---------------------------------------------+---------+\n",
      "|id                                           |outDegree|\n",
      "+---------------------------------------------+---------+\n",
      "|San Francisco Caltrain (Townsend at 4th)     |49092    |\n",
      "|San Francisco Caltrain 2 (330 Townsend)      |33742    |\n",
      "|Harry Bridges Plaza (Ferry Building)         |32934    |\n",
      "|Embarcadero at Sansome                       |27713    |\n",
      "|Temporary Transbay Terminal (Howard at Beale)|26089    |\n",
      "+---------------------------------------------+---------+\n",
      "\n"
     ]
    }
   ],
   "source": [
    "outDeg = stationGraph.outDegrees\n",
    "outDeg\\\n",
    "    .orderBy(desc(\"outDegree\"))\\\n",
    "    .limit(5)\\\n",
    "    .show(truncate=False)"
   ]
  },
  {
   "cell_type": "markdown",
   "metadata": {},
   "source": [
    "### Degree Ratio"
   ]
  },
  {
   "cell_type": "code",
   "execution_count": 49,
   "metadata": {},
   "outputs": [
    {
     "data": {
      "text/plain": [
       "DataFrame[id: string, degreeRatio: double]"
      ]
     },
     "execution_count": 49,
     "metadata": {},
     "output_type": "execute_result"
    }
   ],
   "source": [
    "degreeRatio = inDeg\\\n",
    "    .join(outDeg, inDeg[\"id\"] == outDeg[\"id\"])\\\n",
    "    .drop(outDeg[\"id\"])\\\n",
    "    .selectExpr(\"id\", \"double(inDegree)/double(outDegree) as degreeRatio\")\n",
    "\n",
    "degreeRatio.cache()"
   ]
  },
  {
   "cell_type": "markdown",
   "metadata": {},
   "source": [
    "#### Descending"
   ]
  },
  {
   "cell_type": "code",
   "execution_count": 48,
   "metadata": {},
   "outputs": [
    {
     "name": "stdout",
     "output_type": "stream",
     "text": [
      "+----------------------------------------+------------------+\n",
      "|id                                      |degreeRatio       |\n",
      "+----------------------------------------+------------------+\n",
      "|Redwood City Medical Center             |1.4533762057877813|\n",
      "|Redwood City Public Library             |1.300469483568075 |\n",
      "|San Francisco Caltrain (Townsend at 4th)|1.286951030717836 |\n",
      "|Washington at Kearny                    |1.2723671947809878|\n",
      "|MLK Library                             |1.233038348082596 |\n",
      "|SJSU 4th at San Carlos                  |1.2282051282051283|\n",
      "|San Mateo County Center                 |1.2195121951219512|\n",
      "|Broadway at Main                        |1.208955223880597 |\n",
      "|University and Emerson                  |1.2056878306878307|\n",
      "|Washington at Kearney                   |1.203804347826087 |\n",
      "+----------------------------------------+------------------+\n",
      "\n"
     ]
    }
   ],
   "source": [
    "degreeRatio\\\n",
    "    .orderBy(desc(\"degreeRatio\"))\\\n",
    "    .limit(10)\\\n",
    "    .show(truncate=False)"
   ]
  },
  {
   "cell_type": "markdown",
   "metadata": {},
   "source": [
    "#### Ascending"
   ]
  },
  {
   "cell_type": "code",
   "execution_count": 47,
   "metadata": {},
   "outputs": [
    {
     "name": "stdout",
     "output_type": "stream",
     "text": [
      "+-------------------------------+------------------+\n",
      "|id                             |degreeRatio       |\n",
      "+-------------------------------+------------------+\n",
      "|Grant Avenue at Columbus Avenue|0.564700110388814 |\n",
      "|2nd at Folsom                  |0.6056461731493099|\n",
      "|Powell at Post (Union Square)  |0.6887003841229193|\n",
      "|San Jose City Hall             |0.6928541579607188|\n",
      "|San Francisco City Hall        |0.7497243660418964|\n",
      "|Beale at Market                |0.774906104780699 |\n",
      "|Redwood City Caltrain Station  |0.8075933075933076|\n",
      "|Golden Gate at Polk            |0.8153091800599291|\n",
      "|Evelyn Park and Ride           |0.8218356328734253|\n",
      "|Ryland Park                    |0.8248425872925015|\n",
      "+-------------------------------+------------------+\n",
      "\n"
     ]
    }
   ],
   "source": [
    "degreeRatio\\\n",
    "    .orderBy(asc(\"degreeRatio\"))\\\n",
    "    .limit(10)\\\n",
    "    .show(truncate=False)"
   ]
  },
  {
   "cell_type": "code",
   "execution_count": 8,
   "metadata": {},
   "outputs": [],
   "source": [
    "spark.stop()"
   ]
  }
 ],
 "metadata": {
  "kernelspec": {
   "display_name": "Python 3",
   "language": "python",
   "name": "python3"
  },
  "language_info": {
   "codemirror_mode": {
    "name": "ipython",
    "version": 3
   },
   "file_extension": ".py",
   "mimetype": "text/x-python",
   "name": "python",
   "nbconvert_exporter": "python",
   "pygments_lexer": "ipython3",
   "version": "3.7.3"
  }
 },
 "nbformat": 4,
 "nbformat_minor": 4
}