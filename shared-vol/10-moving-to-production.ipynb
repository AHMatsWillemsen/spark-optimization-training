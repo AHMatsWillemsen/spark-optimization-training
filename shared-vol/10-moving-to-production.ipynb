{
 "cells": [
  {
   "cell_type": "markdown",
   "metadata": {},
   "source": [
    "# Moving to production "
   ]
  },
  {
   "cell_type": "markdown",
   "metadata": {},
   "source": [
    "## SparkLint\n",
    "\n",
    "To see performance of your Spark application in form of diagram use https://github.com/groupon/sparklint\n",
    "Proc:\n",
    "- visual\n",
    "- allows to see performance of the large Spark job without digging into the code\n",
    "\n",
    "Cons:\n",
    "- outdated\n",
    "- shows only VCore usage\n",
    " "
   ]
  },
  {
   "cell_type": "code",
   "execution_count": null,
   "metadata": {},
   "outputs": [],
   "source": []
  }
 ],
 "metadata": {
  "kernelspec": {
   "display_name": "Python 3",
   "language": "python",
   "name": "python3"
  },
  "language_info": {
   "codemirror_mode": {
    "name": "ipython",
    "version": 3
   },
   "file_extension": ".py",
   "mimetype": "text/x-python",
   "name": "python",
   "nbconvert_exporter": "python",
   "pygments_lexer": "ipython3",
   "version": "3.7.3"
  }
 },
 "nbformat": 4,
 "nbformat_minor": 4
}
